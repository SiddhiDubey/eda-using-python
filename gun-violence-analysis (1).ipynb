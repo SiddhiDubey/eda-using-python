{
 "cells": [
  {
   "cell_type": "markdown",
   "metadata": {},
   "source": [
    "# gun-violence-analysis\n",
    "\n",
    "Use the \"Run\" button to execute the code."
   ]
  },
  {
   "cell_type": "code",
   "execution_count": 1,
   "metadata": {},
   "outputs": [],
   "source": [
    "!pip install jovian --upgrade --quiet"
   ]
  },
  {
   "cell_type": "code",
   "execution_count": 2,
   "metadata": {},
   "outputs": [],
   "source": [
    "import jovian"
   ]
  },
  {
   "cell_type": "code",
   "execution_count": null,
   "metadata": {},
   "outputs": [
    {
     "data": {
      "application/javascript": [
       "window.require && require([\"base/js/namespace\"],function(Jupyter){Jupyter.notebook.save_checkpoint()})"
      ],
      "text/plain": [
       "<IPython.core.display.Javascript object>"
      ]
     },
     "metadata": {},
     "output_type": "display_data"
    }
   ],
   "source": [
    "# Execute this to save new versions of the notebook\n",
    "jovian.commit(project=\"gun-violence-analysis\")"
   ]
  },
  {
   "cell_type": "code",
   "execution_count": 5,
   "metadata": {},
   "outputs": [],
   "source": [
    "import pandas as pd\n",
    "import numpy as np\n",
    "import seaborn as sns\n",
    "import matplotlib.pylab as plt"
   ]
  },
  {
   "cell_type": "code",
   "execution_count": 6,
   "metadata": {},
   "outputs": [],
   "source": [
    "gun_df = pd.read_csv('all_incidents.csv')"
   ]
  },
  {
   "cell_type": "code",
   "execution_count": 7,
   "metadata": {},
   "outputs": [
    {
     "data": {
      "text/html": [
       "<div>\n",
       "<style scoped>\n",
       "    .dataframe tbody tr th:only-of-type {\n",
       "        vertical-align: middle;\n",
       "    }\n",
       "\n",
       "    .dataframe tbody tr th {\n",
       "        vertical-align: top;\n",
       "    }\n",
       "\n",
       "    .dataframe thead th {\n",
       "        text-align: right;\n",
       "    }\n",
       "</style>\n",
       "<table border=\"1\" class=\"dataframe\">\n",
       "  <thead>\n",
       "    <tr style=\"text-align: right;\">\n",
       "      <th></th>\n",
       "      <th>incident_id</th>\n",
       "      <th>date</th>\n",
       "      <th>state</th>\n",
       "      <th>city</th>\n",
       "      <th>address</th>\n",
       "      <th>n_killed</th>\n",
       "      <th>n_injured</th>\n",
       "    </tr>\n",
       "  </thead>\n",
       "  <tbody>\n",
       "    <tr>\n",
       "      <th>0</th>\n",
       "      <td>2314858</td>\n",
       "      <td>2022-05-28</td>\n",
       "      <td>Arkansas</td>\n",
       "      <td>Little Rock</td>\n",
       "      <td>W 9th St and Broadway St</td>\n",
       "      <td>0</td>\n",
       "      <td>1</td>\n",
       "    </tr>\n",
       "    <tr>\n",
       "      <th>1</th>\n",
       "      <td>2314409</td>\n",
       "      <td>2022-05-28</td>\n",
       "      <td>Colorado</td>\n",
       "      <td>Denver</td>\n",
       "      <td>3300 block of Clay St</td>\n",
       "      <td>0</td>\n",
       "      <td>1</td>\n",
       "    </tr>\n",
       "    <tr>\n",
       "      <th>2</th>\n",
       "      <td>2314498</td>\n",
       "      <td>2022-05-28</td>\n",
       "      <td>Missouri</td>\n",
       "      <td>Saint Louis</td>\n",
       "      <td>Page Blvd and Vandeventer Ave</td>\n",
       "      <td>0</td>\n",
       "      <td>1</td>\n",
       "    </tr>\n",
       "    <tr>\n",
       "      <th>3</th>\n",
       "      <td>2314485</td>\n",
       "      <td>2022-05-28</td>\n",
       "      <td>South Carolina</td>\n",
       "      <td>Florence</td>\n",
       "      <td>Old River Rd</td>\n",
       "      <td>0</td>\n",
       "      <td>2</td>\n",
       "    </tr>\n",
       "    <tr>\n",
       "      <th>4</th>\n",
       "      <td>2314483</td>\n",
       "      <td>2022-05-28</td>\n",
       "      <td>California</td>\n",
       "      <td>Carmichael</td>\n",
       "      <td>4400 block of Manzanita Ave</td>\n",
       "      <td>1</td>\n",
       "      <td>0</td>\n",
       "    </tr>\n",
       "    <tr>\n",
       "      <th>...</th>\n",
       "      <td>...</td>\n",
       "      <td>...</td>\n",
       "      <td>...</td>\n",
       "      <td>...</td>\n",
       "      <td>...</td>\n",
       "      <td>...</td>\n",
       "      <td>...</td>\n",
       "    </tr>\n",
       "    <tr>\n",
       "      <th>472815</th>\n",
       "      <td>478959</td>\n",
       "      <td>2013-01-07</td>\n",
       "      <td>North Carolina</td>\n",
       "      <td>Greensboro</td>\n",
       "      <td>307 Mourning Dove Terrace</td>\n",
       "      <td>2</td>\n",
       "      <td>2</td>\n",
       "    </tr>\n",
       "    <tr>\n",
       "      <th>472816</th>\n",
       "      <td>478925</td>\n",
       "      <td>2013-01-05</td>\n",
       "      <td>Colorado</td>\n",
       "      <td>Aurora</td>\n",
       "      <td>16000 block of East Ithaca Place</td>\n",
       "      <td>4</td>\n",
       "      <td>0</td>\n",
       "    </tr>\n",
       "    <tr>\n",
       "      <th>472817</th>\n",
       "      <td>478855</td>\n",
       "      <td>2013-01-01</td>\n",
       "      <td>Ohio</td>\n",
       "      <td>Lorain</td>\n",
       "      <td>1776 East 28th Street</td>\n",
       "      <td>1</td>\n",
       "      <td>3</td>\n",
       "    </tr>\n",
       "    <tr>\n",
       "      <th>472818</th>\n",
       "      <td>460726</td>\n",
       "      <td>2013-01-01</td>\n",
       "      <td>California</td>\n",
       "      <td>Hawthorne</td>\n",
       "      <td>13500 block of Cerise Avenue</td>\n",
       "      <td>1</td>\n",
       "      <td>3</td>\n",
       "    </tr>\n",
       "    <tr>\n",
       "      <th>472819</th>\n",
       "      <td>461105</td>\n",
       "      <td>2013-01-01</td>\n",
       "      <td>Pennsylvania</td>\n",
       "      <td>Mckeesport</td>\n",
       "      <td>1506 Versailles Avenue and Coursin Street</td>\n",
       "      <td>0</td>\n",
       "      <td>4</td>\n",
       "    </tr>\n",
       "  </tbody>\n",
       "</table>\n",
       "<p>472820 rows × 7 columns</p>\n",
       "</div>"
      ],
      "text/plain": [
       "        incident_id        date           state         city  \\\n",
       "0           2314858  2022-05-28        Arkansas  Little Rock   \n",
       "1           2314409  2022-05-28        Colorado       Denver   \n",
       "2           2314498  2022-05-28        Missouri  Saint Louis   \n",
       "3           2314485  2022-05-28  South Carolina     Florence   \n",
       "4           2314483  2022-05-28      California   Carmichael   \n",
       "...             ...         ...             ...          ...   \n",
       "472815       478959  2013-01-07  North Carolina   Greensboro   \n",
       "472816       478925  2013-01-05        Colorado       Aurora   \n",
       "472817       478855  2013-01-01            Ohio       Lorain   \n",
       "472818       460726  2013-01-01      California    Hawthorne   \n",
       "472819       461105  2013-01-01    Pennsylvania   Mckeesport   \n",
       "\n",
       "                                          address  n_killed  n_injured  \n",
       "0                        W 9th St and Broadway St         0          1  \n",
       "1                           3300 block of Clay St         0          1  \n",
       "2                   Page Blvd and Vandeventer Ave         0          1  \n",
       "3                                    Old River Rd         0          2  \n",
       "4                     4400 block of Manzanita Ave         1          0  \n",
       "...                                           ...       ...        ...  \n",
       "472815                  307 Mourning Dove Terrace         2          2  \n",
       "472816           16000 block of East Ithaca Place         4          0  \n",
       "472817                      1776 East 28th Street         1          3  \n",
       "472818               13500 block of Cerise Avenue         1          3  \n",
       "472819  1506 Versailles Avenue and Coursin Street         0          4  \n",
       "\n",
       "[472820 rows x 7 columns]"
      ]
     },
     "execution_count": 7,
     "metadata": {},
     "output_type": "execute_result"
    }
   ],
   "source": [
    "gun_df"
   ]
  },
  {
   "cell_type": "code",
   "execution_count": 8,
   "metadata": {},
   "outputs": [
    {
     "name": "stdout",
     "output_type": "stream",
     "text": [
      "<class 'pandas.core.frame.DataFrame'>\n",
      "RangeIndex: 472820 entries, 0 to 472819\n",
      "Data columns (total 7 columns):\n",
      " #   Column       Non-Null Count   Dtype \n",
      "---  ------       --------------   ----- \n",
      " 0   incident_id  472820 non-null  int64 \n",
      " 1   date         472820 non-null  object\n",
      " 2   state        472820 non-null  object\n",
      " 3   city         472820 non-null  object\n",
      " 4   address      449089 non-null  object\n",
      " 5   n_killed     472820 non-null  int64 \n",
      " 6   n_injured    472820 non-null  int64 \n",
      "dtypes: int64(3), object(4)\n",
      "memory usage: 25.3+ MB\n"
     ]
    }
   ],
   "source": [
    "gun_df.info()"
   ]
  },
  {
   "cell_type": "code",
   "execution_count": 9,
   "metadata": {},
   "outputs": [
    {
     "data": {
      "text/plain": [
       "(472820, 7)"
      ]
     },
     "execution_count": 9,
     "metadata": {},
     "output_type": "execute_result"
    }
   ],
   "source": [
    "gun_df.shape"
   ]
  },
  {
   "cell_type": "code",
   "execution_count": 10,
   "metadata": {},
   "outputs": [],
   "source": [
    "gun_df_copy = gun_df.copy"
   ]
  },
  {
   "cell_type": "code",
   "execution_count": 11,
   "metadata": {},
   "outputs": [
    {
     "data": {
      "text/plain": [
       "<bound method NDFrame.copy of         incident_id        date           state         city  \\\n",
       "0           2314858  2022-05-28        Arkansas  Little Rock   \n",
       "1           2314409  2022-05-28        Colorado       Denver   \n",
       "2           2314498  2022-05-28        Missouri  Saint Louis   \n",
       "3           2314485  2022-05-28  South Carolina     Florence   \n",
       "4           2314483  2022-05-28      California   Carmichael   \n",
       "...             ...         ...             ...          ...   \n",
       "472815       478959  2013-01-07  North Carolina   Greensboro   \n",
       "472816       478925  2013-01-05        Colorado       Aurora   \n",
       "472817       478855  2013-01-01            Ohio       Lorain   \n",
       "472818       460726  2013-01-01      California    Hawthorne   \n",
       "472819       461105  2013-01-01    Pennsylvania   Mckeesport   \n",
       "\n",
       "                                          address  n_killed  n_injured  \n",
       "0                        W 9th St and Broadway St         0          1  \n",
       "1                           3300 block of Clay St         0          1  \n",
       "2                   Page Blvd and Vandeventer Ave         0          1  \n",
       "3                                    Old River Rd         0          2  \n",
       "4                     4400 block of Manzanita Ave         1          0  \n",
       "...                                           ...       ...        ...  \n",
       "472815                  307 Mourning Dove Terrace         2          2  \n",
       "472816           16000 block of East Ithaca Place         4          0  \n",
       "472817                      1776 East 28th Street         1          3  \n",
       "472818               13500 block of Cerise Avenue         1          3  \n",
       "472819  1506 Versailles Avenue and Coursin Street         0          4  \n",
       "\n",
       "[472820 rows x 7 columns]>"
      ]
     },
     "execution_count": 11,
     "metadata": {},
     "output_type": "execute_result"
    }
   ],
   "source": [
    "gun_df_copy"
   ]
  },
  {
   "cell_type": "code",
   "execution_count": 12,
   "metadata": {},
   "outputs": [
    {
     "data": {
      "text/plain": [
       "incident_id        0\n",
       "date               0\n",
       "state              0\n",
       "city               0\n",
       "address        23731\n",
       "n_killed           0\n",
       "n_injured          0\n",
       "dtype: int64"
      ]
     },
     "execution_count": 12,
     "metadata": {},
     "output_type": "execute_result"
    }
   ],
   "source": [
    "gun_df.isnull().sum()"
   ]
  },
  {
   "cell_type": "code",
   "execution_count": 13,
   "metadata": {},
   "outputs": [],
   "source": [
    "gun_df[\"address\"].fillna(\"Not Available\", inplace = True)"
   ]
  },
  {
   "cell_type": "code",
   "execution_count": 14,
   "metadata": {},
   "outputs": [
    {
     "data": {
      "text/plain": [
       "incident_id    0\n",
       "date           0\n",
       "state          0\n",
       "city           0\n",
       "address        0\n",
       "n_killed       0\n",
       "n_injured      0\n",
       "dtype: int64"
      ]
     },
     "execution_count": 14,
     "metadata": {},
     "output_type": "execute_result"
    }
   ],
   "source": [
    "gun_df.isnull().sum()"
   ]
  },
  {
   "cell_type": "code",
   "execution_count": 15,
   "metadata": {},
   "outputs": [
    {
     "data": {
      "text/html": [
       "<div>\n",
       "<style scoped>\n",
       "    .dataframe tbody tr th:only-of-type {\n",
       "        vertical-align: middle;\n",
       "    }\n",
       "\n",
       "    .dataframe tbody tr th {\n",
       "        vertical-align: top;\n",
       "    }\n",
       "\n",
       "    .dataframe thead th {\n",
       "        text-align: right;\n",
       "    }\n",
       "</style>\n",
       "<table border=\"1\" class=\"dataframe\">\n",
       "  <thead>\n",
       "    <tr style=\"text-align: right;\">\n",
       "      <th></th>\n",
       "      <th>incident_id</th>\n",
       "      <th>date</th>\n",
       "      <th>state</th>\n",
       "      <th>city</th>\n",
       "      <th>address</th>\n",
       "      <th>n_killed</th>\n",
       "      <th>n_injured</th>\n",
       "    </tr>\n",
       "  </thead>\n",
       "  <tbody>\n",
       "    <tr>\n",
       "      <th>0</th>\n",
       "      <td>2314858</td>\n",
       "      <td>2022-05-28</td>\n",
       "      <td>Arkansas</td>\n",
       "      <td>Little Rock</td>\n",
       "      <td>W 9th St and Broadway St</td>\n",
       "      <td>0</td>\n",
       "      <td>1</td>\n",
       "    </tr>\n",
       "    <tr>\n",
       "      <th>1</th>\n",
       "      <td>2314409</td>\n",
       "      <td>2022-05-28</td>\n",
       "      <td>Colorado</td>\n",
       "      <td>Denver</td>\n",
       "      <td>3300 block of Clay St</td>\n",
       "      <td>0</td>\n",
       "      <td>1</td>\n",
       "    </tr>\n",
       "    <tr>\n",
       "      <th>2</th>\n",
       "      <td>2314498</td>\n",
       "      <td>2022-05-28</td>\n",
       "      <td>Missouri</td>\n",
       "      <td>Saint Louis</td>\n",
       "      <td>Page Blvd and Vandeventer Ave</td>\n",
       "      <td>0</td>\n",
       "      <td>1</td>\n",
       "    </tr>\n",
       "    <tr>\n",
       "      <th>3</th>\n",
       "      <td>2314485</td>\n",
       "      <td>2022-05-28</td>\n",
       "      <td>South Carolina</td>\n",
       "      <td>Florence</td>\n",
       "      <td>Old River Rd</td>\n",
       "      <td>0</td>\n",
       "      <td>2</td>\n",
       "    </tr>\n",
       "    <tr>\n",
       "      <th>4</th>\n",
       "      <td>2314483</td>\n",
       "      <td>2022-05-28</td>\n",
       "      <td>California</td>\n",
       "      <td>Carmichael</td>\n",
       "      <td>4400 block of Manzanita Ave</td>\n",
       "      <td>1</td>\n",
       "      <td>0</td>\n",
       "    </tr>\n",
       "  </tbody>\n",
       "</table>\n",
       "</div>"
      ],
      "text/plain": [
       "   incident_id        date           state         city  \\\n",
       "0      2314858  2022-05-28        Arkansas  Little Rock   \n",
       "1      2314409  2022-05-28        Colorado       Denver   \n",
       "2      2314498  2022-05-28        Missouri  Saint Louis   \n",
       "3      2314485  2022-05-28  South Carolina     Florence   \n",
       "4      2314483  2022-05-28      California   Carmichael   \n",
       "\n",
       "                         address  n_killed  n_injured  \n",
       "0       W 9th St and Broadway St         0          1  \n",
       "1          3300 block of Clay St         0          1  \n",
       "2  Page Blvd and Vandeventer Ave         0          1  \n",
       "3                   Old River Rd         0          2  \n",
       "4    4400 block of Manzanita Ave         1          0  "
      ]
     },
     "execution_count": 15,
     "metadata": {},
     "output_type": "execute_result"
    }
   ],
   "source": [
    "gun_df.head()"
   ]
  },
  {
   "cell_type": "code",
   "execution_count": 16,
   "metadata": {},
   "outputs": [],
   "source": [
    "max_gun_violence = gun_df.state.value_counts(sort=True).head(10)"
   ]
  },
  {
   "cell_type": "code",
   "execution_count": 17,
   "metadata": {},
   "outputs": [
    {
     "data": {
      "text/plain": [
       "Illinois          35814\n",
       "California        30745\n",
       "Texas             30190\n",
       "Florida           26620\n",
       "Pennsylvania      21258\n",
       "Ohio              20596\n",
       "New York          20151\n",
       "North Carolina    16465\n",
       "Georgia           16252\n",
       "Louisiana         15726\n",
       "Name: state, dtype: int64"
      ]
     },
     "execution_count": 17,
     "metadata": {},
     "output_type": "execute_result"
    }
   ],
   "source": [
    "max_gun_violence"
   ]
  },
  {
   "cell_type": "code",
   "execution_count": 18,
   "metadata": {},
   "outputs": [
    {
     "data": {
      "image/png": "[encoded data removed]",
      "text/plain": [
       "<Figure size 864x576 with 1 Axes>"
      ]
     },
     "metadata": {
      "needs_background": "light"
     },
     "output_type": "display_data"
    }
   ],
   "source": [
    "plt.figure(figsize=(12,8));\n",
    "plt.grid()\n",
    "plt.title(\"state with maximum gun violence\")\n",
    "plt.plot(max_gun_violence, 'o--r');"
   ]
  },
  {
   "cell_type": "code",
   "execution_count": 19,
   "metadata": {},
   "outputs": [
    {
     "data": {
      "image/png": "[encoded data removed]",
      "text/plain": [
       "<Figure size 720x576 with 1 Axes>"
      ]
     },
     "metadata": {},
     "output_type": "display_data"
    }
   ],
   "source": [
    "plt.figure(figsize=(10,8))\n",
    "plt.tick_params(labelsize=5)\n",
    "plt.title(\"States with maximum gun violence\", fontsize = 25)\n",
    "plt.pie(max_gun_violence, labels=max_gun_violence.index, autopct='%1.1f%%', shadow=True, textprops={'fontsize' : 12});"
   ]
  },
  {
   "cell_type": "code",
   "execution_count": 20,
   "metadata": {},
   "outputs": [],
   "source": [
    "import jovian"
   ]
  },
  {
   "cell_type": "code",
   "execution_count": null,
   "metadata": {
    "scrolled": true
   },
   "outputs": [
    {
     "data": {
      "application/javascript": [
       "window.require && require([\"base/js/namespace\"],function(Jupyter){Jupyter.notebook.save_checkpoint()})"
      ],
      "text/plain": [
       "<IPython.core.display.Javascript object>"
      ]
     },
     "metadata": {},
     "output_type": "display_data"
    }
   ],
   "source": [
    "jovian.commit()"
   ]
  },
  {
   "cell_type": "code",
   "execution_count": 21,
   "metadata": {
    "scrolled": true
   },
   "outputs": [
    {
     "data": {
      "text/plain": [
       "Index(['incident_id', 'date', 'state', 'city', 'address', 'n_killed',\n",
       "       'n_injured'],\n",
       "      dtype='object')"
      ]
     },
     "execution_count": 21,
     "metadata": {},
     "output_type": "execute_result"
    }
   ],
   "source": [
    "gun_df.columns"
   ]
  },
  {
   "cell_type": "code",
   "execution_count": 22,
   "metadata": {},
   "outputs": [
    {
     "data": {
      "text/html": [
       "<div>\n",
       "<style scoped>\n",
       "    .dataframe tbody tr th:only-of-type {\n",
       "        vertical-align: middle;\n",
       "    }\n",
       "\n",
       "    .dataframe tbody tr th {\n",
       "        vertical-align: top;\n",
       "    }\n",
       "\n",
       "    .dataframe thead th {\n",
       "        text-align: right;\n",
       "    }\n",
       "</style>\n",
       "<table border=\"1\" class=\"dataframe\">\n",
       "  <thead>\n",
       "    <tr style=\"text-align: right;\">\n",
       "      <th></th>\n",
       "      <th>incident_id</th>\n",
       "      <th>date</th>\n",
       "      <th>state</th>\n",
       "      <th>city</th>\n",
       "      <th>address</th>\n",
       "      <th>n_killed</th>\n",
       "      <th>n_injured</th>\n",
       "    </tr>\n",
       "  </thead>\n",
       "  <tbody>\n",
       "    <tr>\n",
       "      <th>0</th>\n",
       "      <td>2314858</td>\n",
       "      <td>2022-05-28</td>\n",
       "      <td>Arkansas</td>\n",
       "      <td>Little Rock</td>\n",
       "      <td>W 9th St and Broadway St</td>\n",
       "      <td>0</td>\n",
       "      <td>1</td>\n",
       "    </tr>\n",
       "    <tr>\n",
       "      <th>1</th>\n",
       "      <td>2314409</td>\n",
       "      <td>2022-05-28</td>\n",
       "      <td>Colorado</td>\n",
       "      <td>Denver</td>\n",
       "      <td>3300 block of Clay St</td>\n",
       "      <td>0</td>\n",
       "      <td>1</td>\n",
       "    </tr>\n",
       "    <tr>\n",
       "      <th>2</th>\n",
       "      <td>2314498</td>\n",
       "      <td>2022-05-28</td>\n",
       "      <td>Missouri</td>\n",
       "      <td>Saint Louis</td>\n",
       "      <td>Page Blvd and Vandeventer Ave</td>\n",
       "      <td>0</td>\n",
       "      <td>1</td>\n",
       "    </tr>\n",
       "    <tr>\n",
       "      <th>3</th>\n",
       "      <td>2314485</td>\n",
       "      <td>2022-05-28</td>\n",
       "      <td>South Carolina</td>\n",
       "      <td>Florence</td>\n",
       "      <td>Old River Rd</td>\n",
       "      <td>0</td>\n",
       "      <td>2</td>\n",
       "    </tr>\n",
       "    <tr>\n",
       "      <th>4</th>\n",
       "      <td>2314483</td>\n",
       "      <td>2022-05-28</td>\n",
       "      <td>California</td>\n",
       "      <td>Carmichael</td>\n",
       "      <td>4400 block of Manzanita Ave</td>\n",
       "      <td>1</td>\n",
       "      <td>0</td>\n",
       "    </tr>\n",
       "  </tbody>\n",
       "</table>\n",
       "</div>"
      ],
      "text/plain": [
       "   incident_id        date           state         city  \\\n",
       "0      2314858  2022-05-28        Arkansas  Little Rock   \n",
       "1      2314409  2022-05-28        Colorado       Denver   \n",
       "2      2314498  2022-05-28        Missouri  Saint Louis   \n",
       "3      2314485  2022-05-28  South Carolina     Florence   \n",
       "4      2314483  2022-05-28      California   Carmichael   \n",
       "\n",
       "                         address  n_killed  n_injured  \n",
       "0       W 9th St and Broadway St         0          1  \n",
       "1          3300 block of Clay St         0          1  \n",
       "2  Page Blvd and Vandeventer Ave         0          1  \n",
       "3                   Old River Rd         0          2  \n",
       "4    4400 block of Manzanita Ave         1          0  "
      ]
     },
     "execution_count": 22,
     "metadata": {},
     "output_type": "execute_result"
    }
   ],
   "source": [
    "gun_df.head()"
   ]
  },
  {
   "cell_type": "markdown",
   "metadata": {},
   "source": [
    "## How many people were kiiled"
   ]
  },
  {
   "cell_type": "code",
   "execution_count": 26,
   "metadata": {},
   "outputs": [
    {
     "data": {
      "text/plain": [
       "135775"
      ]
     },
     "execution_count": 26,
     "metadata": {},
     "output_type": "execute_result"
    }
   ],
   "source": [
    "killed_total = gun_df.n_killed.sum()\n",
    "killed_total"
   ]
  },
  {
   "cell_type": "markdown",
   "metadata": {},
   "source": [
    "## How many people were injured"
   ]
  },
  {
   "cell_type": "code",
   "execution_count": 29,
   "metadata": {},
   "outputs": [
    {
     "data": {
      "text/plain": [
       "265850"
      ]
     },
     "execution_count": 29,
     "metadata": {},
     "output_type": "execute_result"
    }
   ],
   "source": [
    "injured_total = gun_df.n_injured.sum()\n",
    "injured_total"
   ]
  },
  {
   "cell_type": "markdown",
   "metadata": {},
   "source": [
    "## Total Killed in illinois  "
   ]
  },
  {
   "cell_type": "code",
   "execution_count": 35,
   "metadata": {},
   "outputs": [
    {
     "data": {
      "text/plain": [
       "7535"
      ]
     },
     "execution_count": 35,
     "metadata": {},
     "output_type": "execute_result"
    }
   ],
   "source": [
    "illinois_killing = gun_df['n_killed'].groupby(gun_df['state']).sum()['Illinois']\n",
    "illinois_killing"
   ]
  },
  {
   "cell_type": "code",
   "execution_count": 37,
   "metadata": {},
   "outputs": [
    {
     "data": {
      "text/plain": [
       "28832"
      ]
     },
     "execution_count": 37,
     "metadata": {},
     "output_type": "execute_result"
    }
   ],
   "source": [
    "illinois_injured = gun_df['n_injured'].groupby(gun_df['state']).sum()['Illinois']\n",
    "illinois_injured"
   ]
  },
  {
   "cell_type": "code",
   "execution_count": 43,
   "metadata": {},
   "outputs": [
    {
     "data": {
      "image/png": "[encoded data removed]",
      "text/plain": [
       "<Figure size 1440x432 with 1 Axes>"
      ]
     },
     "metadata": {
      "needs_background": "light"
     },
     "output_type": "display_data"
    }
   ],
   "source": [
    "plt.figure(figsize=(20,6))\n",
    "top_10_killed = gun_df.groupby('state')['n_killed'].count().sort_values(ascending = False).head(10)\n",
    "sns.barplot(x=top_10.index, y = top_10.values)\n",
    "plt.title('Killed Top 20')\n",
    "plt.xticks(rotation='60')\n",
    "plt.show()"
   ]
  },
  {
   "cell_type": "code",
   "execution_count": 47,
   "metadata": {},
   "outputs": [
    {
     "data": {
      "image/png": "[encoded data removed]",
      "text/plain": [
       "<Figure size 1440x432 with 1 Axes>"
      ]
     },
     "metadata": {
      "needs_background": "light"
     },
     "output_type": "display_data"
    }
   ],
   "source": [
    "plt.figure(figsize=(20,6))\n",
    "top_10_injured = gun_df.groupby('state')['n_injured'].count().sort_values(ascending = False).head(10)\n",
    "sns.barplot(x=top_10.index, y = top_10.values)\n",
    "plt.title('Injured Top 20')\n",
    "plt.xticks(rotation='60')\n",
    "plt.show()"
   ]
  },
  {
   "cell_type": "code",
   "execution_count": 51,
   "metadata": {},
   "outputs": [
    {
     "data": {
      "text/plain": [
       "Index(['incident_id', 'date', 'state', 'city', 'address', 'n_killed',\n",
       "       'n_injured'],\n",
       "      dtype='object')"
      ]
     },
     "execution_count": 51,
     "metadata": {},
     "output_type": "execute_result"
    }
   ],
   "source": [
    "gun_df.columns"
   ]
  },
  {
   "cell_type": "code",
   "execution_count": 54,
   "metadata": {},
   "outputs": [
    {
     "data": {
      "text/html": [
       "<div>\n",
       "<style scoped>\n",
       "    .dataframe tbody tr th:only-of-type {\n",
       "        vertical-align: middle;\n",
       "    }\n",
       "\n",
       "    .dataframe tbody tr th {\n",
       "        vertical-align: top;\n",
       "    }\n",
       "\n",
       "    .dataframe thead th {\n",
       "        text-align: right;\n",
       "    }\n",
       "</style>\n",
       "<table border=\"1\" class=\"dataframe\">\n",
       "  <thead>\n",
       "    <tr style=\"text-align: right;\">\n",
       "      <th></th>\n",
       "      <th>incident_id</th>\n",
       "      <th>date</th>\n",
       "      <th>state</th>\n",
       "      <th>city</th>\n",
       "      <th>address</th>\n",
       "      <th>n_killed</th>\n",
       "      <th>n_injured</th>\n",
       "      <th>year</th>\n",
       "    </tr>\n",
       "  </thead>\n",
       "  <tbody>\n",
       "    <tr>\n",
       "      <th>0</th>\n",
       "      <td>2314858</td>\n",
       "      <td>2022-05-28</td>\n",
       "      <td>Arkansas</td>\n",
       "      <td>Little Rock</td>\n",
       "      <td>W 9th St and Broadway St</td>\n",
       "      <td>0</td>\n",
       "      <td>1</td>\n",
       "      <td>2022</td>\n",
       "    </tr>\n",
       "    <tr>\n",
       "      <th>1</th>\n",
       "      <td>2314409</td>\n",
       "      <td>2022-05-28</td>\n",
       "      <td>Colorado</td>\n",
       "      <td>Denver</td>\n",
       "      <td>3300 block of Clay St</td>\n",
       "      <td>0</td>\n",
       "      <td>1</td>\n",
       "      <td>2022</td>\n",
       "    </tr>\n",
       "    <tr>\n",
       "      <th>2</th>\n",
       "      <td>2314498</td>\n",
       "      <td>2022-05-28</td>\n",
       "      <td>Missouri</td>\n",
       "      <td>Saint Louis</td>\n",
       "      <td>Page Blvd and Vandeventer Ave</td>\n",
       "      <td>0</td>\n",
       "      <td>1</td>\n",
       "      <td>2022</td>\n",
       "    </tr>\n",
       "    <tr>\n",
       "      <th>3</th>\n",
       "      <td>2314485</td>\n",
       "      <td>2022-05-28</td>\n",
       "      <td>South Carolina</td>\n",
       "      <td>Florence</td>\n",
       "      <td>Old River Rd</td>\n",
       "      <td>0</td>\n",
       "      <td>2</td>\n",
       "      <td>2022</td>\n",
       "    </tr>\n",
       "    <tr>\n",
       "      <th>4</th>\n",
       "      <td>2314483</td>\n",
       "      <td>2022-05-28</td>\n",
       "      <td>California</td>\n",
       "      <td>Carmichael</td>\n",
       "      <td>4400 block of Manzanita Ave</td>\n",
       "      <td>1</td>\n",
       "      <td>0</td>\n",
       "      <td>2022</td>\n",
       "    </tr>\n",
       "  </tbody>\n",
       "</table>\n",
       "</div>"
      ],
      "text/plain": [
       "   incident_id        date           state         city  \\\n",
       "0      2314858  2022-05-28        Arkansas  Little Rock   \n",
       "1      2314409  2022-05-28        Colorado       Denver   \n",
       "2      2314498  2022-05-28        Missouri  Saint Louis   \n",
       "3      2314485  2022-05-28  South Carolina     Florence   \n",
       "4      2314483  2022-05-28      California   Carmichael   \n",
       "\n",
       "                         address  n_killed  n_injured  year  \n",
       "0       W 9th St and Broadway St         0          1  2022  \n",
       "1          3300 block of Clay St         0          1  2022  \n",
       "2  Page Blvd and Vandeventer Ave         0          1  2022  \n",
       "3                   Old River Rd         0          2  2022  \n",
       "4    4400 block of Manzanita Ave         1          0  2022  "
      ]
     },
     "execution_count": 54,
     "metadata": {},
     "output_type": "execute_result"
    }
   ],
   "source": [
    "gun_df['year'] = pd.DatetimeIndex(gun_df['date']).year\n",
    "gun_df.head()"
   ]
  },
  {
   "cell_type": "code",
   "execution_count": 57,
   "metadata": {},
   "outputs": [
    {
     "data": {
      "text/html": [
       "<div>\n",
       "<style scoped>\n",
       "    .dataframe tbody tr th:only-of-type {\n",
       "        vertical-align: middle;\n",
       "    }\n",
       "\n",
       "    .dataframe tbody tr th {\n",
       "        vertical-align: top;\n",
       "    }\n",
       "\n",
       "    .dataframe thead th {\n",
       "        text-align: right;\n",
       "    }\n",
       "</style>\n",
       "<table border=\"1\" class=\"dataframe\">\n",
       "  <thead>\n",
       "    <tr style=\"text-align: right;\">\n",
       "      <th></th>\n",
       "      <th>incident_id</th>\n",
       "      <th>date</th>\n",
       "      <th>state</th>\n",
       "      <th>city</th>\n",
       "      <th>address</th>\n",
       "      <th>n_killed</th>\n",
       "      <th>n_injured</th>\n",
       "      <th>year</th>\n",
       "      <th>month</th>\n",
       "    </tr>\n",
       "  </thead>\n",
       "  <tbody>\n",
       "    <tr>\n",
       "      <th>0</th>\n",
       "      <td>2314858</td>\n",
       "      <td>2022-05-28</td>\n",
       "      <td>Arkansas</td>\n",
       "      <td>Little Rock</td>\n",
       "      <td>W 9th St and Broadway St</td>\n",
       "      <td>0</td>\n",
       "      <td>1</td>\n",
       "      <td>2022</td>\n",
       "      <td>5</td>\n",
       "    </tr>\n",
       "    <tr>\n",
       "      <th>1</th>\n",
       "      <td>2314409</td>\n",
       "      <td>2022-05-28</td>\n",
       "      <td>Colorado</td>\n",
       "      <td>Denver</td>\n",
       "      <td>3300 block of Clay St</td>\n",
       "      <td>0</td>\n",
       "      <td>1</td>\n",
       "      <td>2022</td>\n",
       "      <td>5</td>\n",
       "    </tr>\n",
       "    <tr>\n",
       "      <th>2</th>\n",
       "      <td>2314498</td>\n",
       "      <td>2022-05-28</td>\n",
       "      <td>Missouri</td>\n",
       "      <td>Saint Louis</td>\n",
       "      <td>Page Blvd and Vandeventer Ave</td>\n",
       "      <td>0</td>\n",
       "      <td>1</td>\n",
       "      <td>2022</td>\n",
       "      <td>5</td>\n",
       "    </tr>\n",
       "    <tr>\n",
       "      <th>3</th>\n",
       "      <td>2314485</td>\n",
       "      <td>2022-05-28</td>\n",
       "      <td>South Carolina</td>\n",
       "      <td>Florence</td>\n",
       "      <td>Old River Rd</td>\n",
       "      <td>0</td>\n",
       "      <td>2</td>\n",
       "      <td>2022</td>\n",
       "      <td>5</td>\n",
       "    </tr>\n",
       "    <tr>\n",
       "      <th>4</th>\n",
       "      <td>2314483</td>\n",
       "      <td>2022-05-28</td>\n",
       "      <td>California</td>\n",
       "      <td>Carmichael</td>\n",
       "      <td>4400 block of Manzanita Ave</td>\n",
       "      <td>1</td>\n",
       "      <td>0</td>\n",
       "      <td>2022</td>\n",
       "      <td>5</td>\n",
       "    </tr>\n",
       "  </tbody>\n",
       "</table>\n",
       "</div>"
      ],
      "text/plain": [
       "   incident_id        date           state         city  \\\n",
       "0      2314858  2022-05-28        Arkansas  Little Rock   \n",
       "1      2314409  2022-05-28        Colorado       Denver   \n",
       "2      2314498  2022-05-28        Missouri  Saint Louis   \n",
       "3      2314485  2022-05-28  South Carolina     Florence   \n",
       "4      2314483  2022-05-28      California   Carmichael   \n",
       "\n",
       "                         address  n_killed  n_injured  year  month  \n",
       "0       W 9th St and Broadway St         0          1  2022      5  \n",
       "1          3300 block of Clay St         0          1  2022      5  \n",
       "2  Page Blvd and Vandeventer Ave         0          1  2022      5  \n",
       "3                   Old River Rd         0          2  2022      5  \n",
       "4    4400 block of Manzanita Ave         1          0  2022      5  "
      ]
     },
     "execution_count": 57,
     "metadata": {},
     "output_type": "execute_result"
    }
   ],
   "source": [
    "gun_df['month'] = pd.DatetimeIndex(gun_df['date']).month\n",
    "gun_df.head()"
   ]
  },
  {
   "cell_type": "code",
   "execution_count": 58,
   "metadata": {},
   "outputs": [
    {
     "data": {
      "image/png": "[encoded data removed]",
      "text/plain": [
       "<Figure size 1440x432 with 1 Axes>"
      ]
     },
     "metadata": {
      "needs_background": "light"
     },
     "output_type": "display_data"
    }
   ],
   "source": [
    "plt.figure(figsize=(20,6))\n",
    "top_10_year = gun_df.groupby('year')['n_injured'].count().sort_values(ascending = False).head(10)\n",
    "sns.barplot(x=top_10.index, y = top_10.values)\n",
    "plt.title('Injured Top 20')\n",
    "plt.xticks(rotation='60')\n",
    "plt.show()"
   ]
  },
  {
   "cell_type": "code",
   "execution_count": 60,
   "metadata": {},
   "outputs": [
    {
     "data": {
      "text/plain": [
       "year\n",
       "2020    62330\n",
       "2017    61401\n",
       "2016    58763\n",
       "2021    56794\n",
       "2018    55839\n",
       "2019    53752\n",
       "2015    53579\n",
       "2014    51854\n",
       "2022    18230\n",
       "2013      278\n",
       "Name: n_injured, dtype: int64"
      ]
     },
     "execution_count": 60,
     "metadata": {},
     "output_type": "execute_result"
    }
   ],
   "source": [
    "top_10_year = gun_df.groupby('year')['n_injured'].count().sort_values(ascending = False).head(10)\n",
    "top_10_year"
   ]
  },
  {
   "cell_type": "code",
   "execution_count": 1,
   "metadata": {},
   "outputs": [
    {
     "ename": "NameError",
     "evalue": "name 'np' is not defined",
     "output_type": "error",
     "traceback": [
      "\u001b[0;31m---------------------------------------------------------------------------\u001b[0m",
      "\u001b[0;31mNameError\u001b[0m                                 Traceback (most recent call last)",
      "\u001b[0;32m/tmp/ipykernel_131/4028980825.py\u001b[0m in \u001b[0;36m<module>\u001b[0;34m\u001b[0m\n\u001b[0;32m----> 1\u001b[0;31m \u001b[0mind\u001b[0m \u001b[0;34m=\u001b[0m \u001b[0mnp\u001b[0m\u001b[0;34m.\u001b[0m\u001b[0marange\u001b[0m\u001b[0;34m(\u001b[0m\u001b[0mlen\u001b[0m\u001b[0;34m(\u001b[0m\u001b[0mgun_df\u001b[0m\u001b[0;34m)\u001b[0m\u001b[0;34m)\u001b[0m\u001b[0;34m\u001b[0m\u001b[0;34m\u001b[0m\u001b[0m\n\u001b[0m\u001b[1;32m      2\u001b[0m \u001b[0mwidth\u001b[0m \u001b[0;34m=\u001b[0m \u001b[0;36m0.36\u001b[0m\u001b[0;34m\u001b[0m\u001b[0;34m\u001b[0m\u001b[0m\n\u001b[1;32m      3\u001b[0m \u001b[0;34m\u001b[0m\u001b[0m\n\u001b[1;32m      4\u001b[0m \u001b[0mfig1\u001b[0m\u001b[0;34m,\u001b[0m \u001b[0max1\u001b[0m \u001b[0;34m=\u001b[0m \u001b[0mplt\u001b[0m\u001b[0;34m.\u001b[0m\u001b[0msubplots\u001b[0m\u001b[0;34m(\u001b[0m\u001b[0;34m)\u001b[0m\u001b[0;34m\u001b[0m\u001b[0;34m\u001b[0m\u001b[0m\n\u001b[1;32m      5\u001b[0m \u001b[0max1\u001b[0m\u001b[0;34m.\u001b[0m\u001b[0mbarh\u001b[0m\u001b[0;34m(\u001b[0m\u001b[0mind\u001b[0m\u001b[0;34m,\u001b[0m \u001b[0mgun_df\u001b[0m\u001b[0;34m.\u001b[0m\u001b[0mn_injured\u001b[0m\u001b[0;34m,\u001b[0m \u001b[0mwidth\u001b[0m\u001b[0;34m,\u001b[0m \u001b[0mcolor\u001b[0m\u001b[0;34m=\u001b[0m\u001b[0;34m'#3399FF'\u001b[0m\u001b[0;34m,\u001b[0m \u001b[0mlabel\u001b[0m\u001b[0;34m=\u001b[0m\u001b[0;34m\"Injured\"\u001b[0m\u001b[0;34m)\u001b[0m\u001b[0;34m\u001b[0m\u001b[0;34m\u001b[0m\u001b[0m\n",
      "\u001b[0;31mNameError\u001b[0m: name 'np' is not defined"
     ]
    }
   ],
   "source": [
    "ind = np.arange(len(gun_df))\n",
    "width = 0.36\n",
    "\n",
    "fig1, ax1 = plt.subplots()\n",
    "ax1.barh(ind, gun_df.n_injured, width, color='#3399FF', label=\"Injured\")\n",
    "ax1.barh(ind + width, gun_df.n_killed, width, color='#9966CC', label=\"Killed\")\n",
    "\n",
    "ax1.set(yticks=ind + width, yticklabels=gun_df.Year, ylim=[2*width - 1, len(gun_df)])\n",
    "ax1.set_title(\"Number of Movies and TV Shows added to Netflix (by year)\", fontsize=18)\n",
    "ax1.set_ylabel(\"Year added to Netflix\", fontsize=14)\n",
    "ax1.set_xlabel(\"Number of Movies and TV Shows\", fontsize=14)\n",
    "ax1.legend()\n",
    "\n",
    "fig1.set_size_inches(16, 16)\n",
    "plt.show()"
   ]
  },
  {
   "cell_type": "code",
   "execution_count": null,
   "metadata": {},
   "outputs": [],
   "source": []
  }
 ],
 "metadata": {
  "kernelspec": {
   "display_name": "Python 3 (ipykernel)",
   "language": "python",
   "name": "python3"
  },
  "language_info": {
   "codemirror_mode": {
    "name": "ipython",
    "version": 3
   },
   "file_extension": ".py",
   "mimetype": "text/x-python",
   "name": "python",
   "nbconvert_exporter": "python",
   "pygments_lexer": "ipython3",
   "version": "3.9.6"
  }
 },
 "nbformat": 4,
 "nbformat_minor": 2
}
